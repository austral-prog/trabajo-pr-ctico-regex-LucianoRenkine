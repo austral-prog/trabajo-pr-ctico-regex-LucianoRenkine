{
 "cells": [
  {
   "cell_type": "code",
   "execution_count": 1,
   "id": "98bce14f-98b2-4855-99c3-284c9f0f1322",
   "metadata": {
    "id": "98bce14f-98b2-4855-99c3-284c9f0f1322"
   },
   "outputs": [],
   "source": [
    "import re\n",
    "\n",
    "s = \"\"\"\n",
    "\n",
    "Once upon a time, in the enchanted land of Regexville, there lived a group of intrepid explorers.\n",
    "Their leader, Alice, was known for her love of adventure and her trusty email address, alice@example.com.\n",
    "Her phone number, 123-456-7890, was her lifeline in times of trouble.\n",
    "One day, Alice received a mysterious letter with today's date: 08/10/2023. The letter hinted at an upcoming quest.\n",
    "The explorers gathered at the local inn, where they found a weathered map marked with a hashtag: #adventure.\n",
    "The map pointed to a hidden treasure on the website https://www.treasurehunt.com. The inn's address was 123 Main Street, Regexville, ZIP: 12345-6789.\n",
    "Their journey took them through the ancient forest, where they stumbled upon a cave with cryptic inscriptions:\n",
    "\"Python is amazing!\" and \"Java is equally fascinating!\" The explorers knew they were on the right path.\n",
    "Inside the cave, they found a device with the IP address 192.168.1.1 and a MAC addres of 00-B0-D0-63-C2-26, which held valuable clues.\n",
    "\n",
    "Among the explorers, there was a wordsmith who loved finding words with three consecutive vowels:\n",
    "\"boasting,\" \"quizzical,\" \"genuine,\" and \"queue\" were some of his favorites.\n",
    "As they continued their adventure, they encountered Lorem Ipsum, a lorem ipsum generator who spoke in Latin:\n",
    "\"Lorem ipsum dolor sit amet, consectetur adipiscing elit.\"\n",
    "In their pursuit, they stumbled upon an ancient book with mysterious ISBN-10 and ISBN-13 numbers:\n",
    "ISBN-10: 123456789X and ISBN-13: 978-1234567890.\n",
    "Their journey was filled with unexpected twists and turns, much like the regex patterns they used to decipher clues.\n",
    "After a long day, the explorers gathered around a campfire, sharing tales of their encounters. They realized that every step of their adventure was a puzzle waiting to be solved, just like the regex challenges they had conquered.\n",
    "As they drifted off to sleep under a starlit sky, they knew that their quest for treasure and knowledge had only just begun, and the magic of Regexville would continue to guide their way.\n",
    "\n",
    "\"\"\""
   ]
  },
  {
   "cell_type": "markdown",
   "id": "514f802a-9b85-4457-80b4-b53623832bb2",
   "metadata": {
    "id": "514f802a-9b85-4457-80b4-b53623832bb2"
   },
   "source": [
    "#### Write a Python program that matches and prints all words that start with the letter 'A' in a given text."
   ]
  },
  {
   "cell_type": "code",
   "execution_count": 2,
   "id": "db4c55db-2416-43bc-83b3-07eea37df2d7",
   "metadata": {
    "colab": {
     "base_uri": "https://localhost:8080/"
    },
    "id": "db4c55db-2416-43bc-83b3-07eea37df2d7",
    "outputId": "7f65590a-e8f0-4d32-be3c-591451d6131a",
    "scrolled": true
   },
   "outputs": [
    {
     "name": "stdout",
     "output_type": "stream",
     "text": [
      "['Alice', 'Alice', 'Among', 'As', 'After', 'As']\n"
     ]
    }
   ],
   "source": [
    "print(re.findall(r'\\b[A]\\w*\\b', s))"
   ]
  },
  {
   "cell_type": "markdown",
   "id": "964905ba-bcb1-4c2e-9a21-224e68728094",
   "metadata": {
    "id": "964905ba-bcb1-4c2e-9a21-224e68728094"
   },
   "source": [
    "#### Create a Python program to validate email addresses. The program should check if a given string is a valid email address or not."
   ]
  },
  {
   "cell_type": "code",
   "execution_count": 3,
   "id": "4b499ed5-e972-4116-a721-dbfb29e781d5",
   "metadata": {
    "colab": {
     "base_uri": "https://localhost:8080/"
    },
    "id": "4b499ed5-e972-4116-a721-dbfb29e781d5",
    "outputId": "8a4af525-4630-426a-f8c1-81161eee1e0c"
   },
   "outputs": [
    {
     "name": "stdout",
     "output_type": "stream",
     "text": [
      "['alice@example.com']\n"
     ]
    }
   ],
   "source": [
    "print(re.findall(r'\\b[\\w\\d]+@[\\w]+\\.com[\\.]*\\b', s))"
   ]
  },
  {
   "cell_type": "markdown",
   "id": "9e6e0450-214b-40c6-a474-6dff2c41ee43",
   "metadata": {
    "id": "9e6e0450-214b-40c6-a474-6dff2c41ee43"
   },
   "source": [
    "#### Write a Python program to find and count all the digits in a given text."
   ]
  },
  {
   "cell_type": "code",
   "execution_count": null,
   "id": "ec71a1d9-d971-4119-9124-a3f993069eeb",
   "metadata": {
    "colab": {
     "base_uri": "https://localhost:8080/"
    },
    "id": "ec71a1d9-d971-4119-9124-a3f993069eeb",
    "outputId": "c9b11493-b261-4f79-af91-ff4435696b5c"
   },
   "outputs": [
    {
     "name": "stdout",
     "output_type": "stream",
     "text": [
      "77\n"
     ]
    }
   ],
   "source": [
    "print(len(re.findall(r'\\d', s)))"
   ]
  },
  {
   "cell_type": "markdown",
   "id": "5ba7033a-f85c-4ff9-9696-1a069beda9fb",
   "metadata": {
    "id": "5ba7033a-f85c-4ff9-9696-1a069beda9fb"
   },
   "source": [
    "#### Create a Python program that extracts all the URLs (http:// or https://) from a given text."
   ]
  },
  {
   "cell_type": "code",
   "execution_count": null,
   "id": "084f2eb3-e67c-45bd-8460-b113b6794e82",
   "metadata": {
    "colab": {
     "base_uri": "https://localhost:8080/"
    },
    "id": "084f2eb3-e67c-45bd-8460-b113b6794e82",
    "outputId": "26eb390f-9b9c-4c7d-b690-9be857d3c945"
   },
   "outputs": [
    {
     "name": "stdout",
     "output_type": "stream",
     "text": [
      "\n",
      "\n",
      "Once upon a time, in the enchanted land of Regexville, there lived a group of intrepid explorers.\n",
      "Their leader, Alice, was known for her love of adventure and her trusty email address, alice@example.com.\n",
      "Her phone number, 123-456-7890, was her lifeline in times of trouble.\n",
      "One day, Alice received a mysterious letter with today's date: 08/10/2023. The letter hinted at an upcoming quest.\n",
      "The explorers gathered at the local inn, where they found a weathered map marked with a hashtag: #adventure.\n",
      "The map pointed to a hidden treasure on the website www.treasurehunt.com. The inn's address was 123 Main Street, Regexville, ZIP: 12345-6789.\n",
      "Their journey took them through the ancient forest, where they stumbled upon a cave with cryptic inscriptions:\n",
      "\"Python is amazing!\" and \"Java is equally fascinating!\" The explorers knew they were on the right path.\n",
      "Inside the cave, they found a device with the IP address 192.168.1.1 and a MAC addres of 00-B0-D0-63-C2-26, which held valuable clues.\n",
      "\n",
      "Among the explorers, there was a wordsmith who loved finding words with three consecutive vowels:\n",
      "\"boasting,\" \"quizzical,\" \"genuine,\" and \"queue\" were some of his favorites.\n",
      "As they continued their adventure, they encountered Lorem Ipsum, a lorem ipsum generator who spoke in Latin:\n",
      "\"Lorem ipsum dolor sit amet, consectetur adipiscing elit.\"\n",
      "In their pursuit, they stumbled upon an ancient book with mysterious ISBN-10 and ISBN-13 numbers:\n",
      "ISBN-10: 123456789X and ISBN-13: 978-1234567890.\n",
      "Their journey was filled with unexpected twists and turns, much like the regex patterns they used to decipher clues.\n",
      "After a long day, the explorers gathered around a campfire, sharing tales of their encounters. They realized that every step of their adventure was a puzzle waiting to be solved, just like the regex challenges they had conquered.\n",
      "As they drifted off to sleep under a starlit sky, they knew that their quest for treasure and knowledge had only just begun, and the magic of Regexville would continue to guide their way.\n",
      "\n",
      "\n"
     ]
    }
   ],
   "source": [
    "print(re.sub(r'http[s]*://', '', s))"
   ]
  },
  {
   "cell_type": "markdown",
   "id": "04664806-5191-4a7a-bb82-be8cd0e9a77c",
   "metadata": {
    "id": "04664806-5191-4a7a-bb82-be8cd0e9a77c"
   },
   "source": [
    "#### Write a Python program that extracts all the phone numbers (in the format xxx-xxx-xxxx) from a given text."
   ]
  },
  {
   "cell_type": "code",
   "execution_count": null,
   "id": "a88f57ea-c034-49e3-9586-bcf1a9b795f8",
   "metadata": {
    "colab": {
     "base_uri": "https://localhost:8080/"
    },
    "id": "a88f57ea-c034-49e3-9586-bcf1a9b795f8",
    "outputId": "eaac487a-efc9-4c80-f7c3-0c6088531fb0"
   },
   "outputs": [
    {
     "name": "stdout",
     "output_type": "stream",
     "text": [
      "\n",
      "\n",
      "Once upon a time, in the enchanted land of Regexville, there lived a group of intrepid explorers.\n",
      "Their leader, Alice, was known for her love of adventure and her trusty email address, alice@example.com.\n",
      "Her phone number, , was her lifeline in times of trouble.\n",
      "One day, Alice received a mysterious letter with today's date: 08/10/2023. The letter hinted at an upcoming quest.\n",
      "The explorers gathered at the local inn, where they found a weathered map marked with a hashtag: #adventure.\n",
      "The map pointed to a hidden treasure on the website https://www.treasurehunt.com. The inn's address was 123 Main Street, Regexville, ZIP: 12345-6789.\n",
      "Their journey took them through the ancient forest, where they stumbled upon a cave with cryptic inscriptions:\n",
      "\"Python is amazing!\" and \"Java is equally fascinating!\" The explorers knew they were on the right path.\n",
      "Inside the cave, they found a device with the IP address 192.168.1.1 and a MAC addres of 00-B0-D0-63-C2-26, which held valuable clues.\n",
      "\n",
      "Among the explorers, there was a wordsmith who loved finding words with three consecutive vowels:\n",
      "\"boasting,\" \"quizzical,\" \"genuine,\" and \"queue\" were some of his favorites.\n",
      "As they continued their adventure, they encountered Lorem Ipsum, a lorem ipsum generator who spoke in Latin:\n",
      "\"Lorem ipsum dolor sit amet, consectetur adipiscing elit.\"\n",
      "In their pursuit, they stumbled upon an ancient book with mysterious ISBN-10 and ISBN-13 numbers:\n",
      "ISBN-10: 123456789X and ISBN-13: 978-1234567890.\n",
      "Their journey was filled with unexpected twists and turns, much like the regex patterns they used to decipher clues.\n",
      "After a long day, the explorers gathered around a campfire, sharing tales of their encounters. They realized that every step of their adventure was a puzzle waiting to be solved, just like the regex challenges they had conquered.\n",
      "As they drifted off to sleep under a starlit sky, they knew that their quest for treasure and knowledge had only just begun, and the magic of Regexville would continue to guide their way.\n",
      "\n",
      "\n"
     ]
    }
   ],
   "source": [
    "print(re.sub(r'\\d{3}-\\d{3}-\\d{4}', '', s))"
   ]
  },
  {
   "cell_type": "markdown",
   "id": "9601a4e1-beee-4c81-8f64-b8794c73d593",
   "metadata": {
    "id": "9601a4e1-beee-4c81-8f64-b8794c73d593"
   },
   "source": [
    "#### Write a Python program that replaces all occurrences of \"Python\" with \"Java\" in a given text."
   ]
  },
  {
   "cell_type": "code",
   "execution_count": null,
   "id": "fc8577e1-8f37-4c29-91f1-314736687689",
   "metadata": {
    "colab": {
     "base_uri": "https://localhost:8080/"
    },
    "id": "fc8577e1-8f37-4c29-91f1-314736687689",
    "outputId": "6253398e-f008-4d68-8129-0c85cf2de5dc"
   },
   "outputs": [
    {
     "name": "stdout",
     "output_type": "stream",
     "text": [
      "\n",
      "\n",
      "Once upon a time, in the enchanted land of Regexville, there lived a group of intrepid explorers.\n",
      "Their leader, Alice, was known for her love of adventure and her trusty email address, alice@example.com.\n",
      "Her phone number, 123-456-7890, was her lifeline in times of trouble.\n",
      "One day, Alice received a mysterious letter with today's date: 08/10/2023. The letter hinted at an upcoming quest.\n",
      "The explorers gathered at the local inn, where they found a weathered map marked with a hashtag: #adventure.\n",
      "The map pointed to a hidden treasure on the website https://www.treasurehunt.com. The inn's address was 123 Main Street, Regexville, ZIP: 12345-6789.\n",
      "Their journey took them through the ancient forest, where they stumbled upon a cave with cryptic inscriptions:\n",
      "\"Java is amazing!\" and \"Java is equally fascinating!\" The explorers knew they were on the right path.\n",
      "Inside the cave, they found a device with the IP address 192.168.1.1 and a MAC addres of 00-B0-D0-63-C2-26, which held valuable clues.\n",
      "\n",
      "Among the explorers, there was a wordsmith who loved finding words with three consecutive vowels:\n",
      "\"boasting,\" \"quizzical,\" \"genuine,\" and \"queue\" were some of his favorites.\n",
      "As they continued their adventure, they encountered Lorem Ipsum, a lorem ipsum generator who spoke in Latin:\n",
      "\"Lorem ipsum dolor sit amet, consectetur adipiscing elit.\"\n",
      "In their pursuit, they stumbled upon an ancient book with mysterious ISBN-10 and ISBN-13 numbers:\n",
      "ISBN-10: 123456789X and ISBN-13: 978-1234567890.\n",
      "Their journey was filled with unexpected twists and turns, much like the regex patterns they used to decipher clues.\n",
      "After a long day, the explorers gathered around a campfire, sharing tales of their encounters. They realized that every step of their adventure was a puzzle waiting to be solved, just like the regex challenges they had conquered.\n",
      "As they drifted off to sleep under a starlit sky, they knew that their quest for treasure and knowledge had only just begun, and the magic of Regexville would continue to guide their way.\n",
      "\n",
      "\n"
     ]
    }
   ],
   "source": [
    "print(re.sub(r'Python', 'Java', s))"
   ]
  },
  {
   "cell_type": "markdown",
   "id": "7b4927c7-aeaa-45b3-b188-bdeffad10427",
   "metadata": {
    "id": "7b4927c7-aeaa-45b3-b188-bdeffad10427"
   },
   "source": [
    "#### Create a Python program to validate US ZIP codes (5 digits, optional hyphen, followed by 4 more digits)."
   ]
  },
  {
   "cell_type": "code",
   "execution_count": null,
   "id": "1a47bad6-3a06-42d4-a8fb-5b68b9b91173",
   "metadata": {
    "colab": {
     "base_uri": "https://localhost:8080/"
    },
    "id": "1a47bad6-3a06-42d4-a8fb-5b68b9b91173",
    "outputId": "87d847f8-7318-476c-8817-c873cc34e0c1"
   },
   "outputs": [
    {
     "name": "stdout",
     "output_type": "stream",
     "text": [
      "['12345-6789', '123456789', '123456789']\n"
     ]
    }
   ],
   "source": [
    "print(re.findall(r'\\d{5}[-]?\\d{4}', s))"
   ]
  },
  {
   "cell_type": "markdown",
   "id": "3fae7411-88ab-4d0f-8f90-300455f8b0f2",
   "metadata": {
    "id": "3fae7411-88ab-4d0f-8f90-300455f8b0f2"
   },
   "source": [
    "#### Write a Python program that extracts all the words with 3 or more consecutive vowels from a given text."
   ]
  },
  {
   "cell_type": "code",
   "execution_count": null,
   "id": "8c582872-3f44-46e1-b3d5-c185a248cedb",
   "metadata": {
    "colab": {
     "base_uri": "https://localhost:8080/"
    },
    "id": "8c582872-3f44-46e1-b3d5-c185a248cedb",
    "outputId": "e7ce1df0-c066-4eab-be7d-26e67e7e1280"
   },
   "outputs": [
    {
     "name": "stdout",
     "output_type": "stream",
     "text": [
      "\n",
      "\n",
      "Once upon a time, in the enchanted land of Regexville, there lived a group of intrepid explorers.\n",
      "Their leader, Alice, was known for her love of adventure and her trusty email address, alice@example.com.\n",
      "Her phone number, 123-456-7890, was her lifeline in times of trouble.\n",
      "One day, Alice received a  letter with today's date: 08/10/2023. The letter hinted at an upcoming quest.\n",
      "The explorers gathered at the local inn, where they found a weathered map marked with a hashtag: #adventure.\n",
      "The map pointed to a hidden treasure on the website https://www.treasurehunt.com. The inn's address was 123 Main Street, Regexville, ZIP: 12345-6789.\n",
      "Their journey took them through the ancient forest, where they stumbled upon a cave with cryptic inscriptions:\n",
      "\"Python is amazing!\" and \"Java is equally fascinating!\" The explorers knew they were on the right path.\n",
      "Inside the cave, they found a device with the IP address 192.168.1.1 and a MAC addres of 00-B0-D0-63-C2-26, which held valuable clues.\n",
      "\n",
      "Among the explorers, there was a wordsmith who loved finding words with three consecutive vowels:\n",
      "\"boasting,\" \"quizzical,\" \"genuine,\" and \"\" were some of his favorites.\n",
      "As they continued their adventure, they encountered Lorem Ipsum, a lorem ipsum generator who spoke in Latin:\n",
      "\"Lorem ipsum dolor sit amet, consectetur adipiscing elit.\"\n",
      "In their pursuit, they stumbled upon an ancient book with  ISBN-10 and ISBN-13 numbers:\n",
      "ISBN-10: 123456789X and ISBN-13: 978-1234567890.\n",
      "Their journey was filled with unexpected twists and turns, much like the regex patterns they used to decipher clues.\n",
      "After a long day, the explorers gathered around a campfire, sharing tales of their encounters. They realized that every step of their adventure was a puzzle waiting to be solved, just like the regex challenges they had conquered.\n",
      "As they drifted off to sleep under a starlit sky, they knew that their quest for treasure and knowledge had only just begun, and the magic of Regexville would continue to guide their way.\n",
      "\n",
      "\n"
     ]
    }
   ],
   "source": [
    "print(re.sub(r'[\\w]*[aeiou]{3,}[\\w]*', '', s))"
   ]
  },
  {
   "cell_type": "markdown",
   "id": "7d03b484-4ed5-4873-95a1-6968d5001479",
   "metadata": {
    "id": "7d03b484-4ed5-4873-95a1-6968d5001479"
   },
   "source": [
    "#### Write a Python program that extracts all the words that are enclosed in double quotes in a given text."
   ]
  },
  {
   "cell_type": "code",
   "execution_count": null,
   "id": "b3ccfe62-4b3c-4ead-89f7-e33b52dd43c2",
   "metadata": {
    "colab": {
     "base_uri": "https://localhost:8080/"
    },
    "id": "b3ccfe62-4b3c-4ead-89f7-e33b52dd43c2",
    "outputId": "f4cebf75-4834-46c0-c8d8-7b45c19a7cd0"
   },
   "outputs": [
    {
     "name": "stdout",
     "output_type": "stream",
     "text": [
      "\n",
      "\n",
      "Once upon a time, in the enchanted land of Regexville, there lived a group of intrepid explorers.\n",
      "Their leader, Alice, was known for her love of adventure and her trusty email address, alice@example.com.\n",
      "Her phone number, 123-456-7890, was her lifeline in times of trouble.\n",
      "One day, Alice received a mysterious letter with today's date: 08/10/2023. The letter hinted at an upcoming quest.\n",
      "The explorers gathered at the local inn, where they found a weathered map marked with a hashtag: #adventure.\n",
      "The map pointed to a hidden treasure on the website https://www.treasurehunt.com. The inn's address was 123 Main Street, Regexville, ZIP: 12345-6789.\n",
      "Their journey took them through the ancient forest, where they stumbled upon a cave with cryptic inscriptions:\n",
      "\"Python is amazing!\" and \"Java is equally fascinating!\" The explorers knew they were on the right path.\n",
      "Inside the cave, they found a device with the IP address 192.168.1.1 and a MAC addres of 00-B0-D0-63-C2-26, which held valuable clues.\n",
      "\n",
      "Among the explorers, there was a wordsmith who loved finding words with three consecutive vowels:\n",
      "   and  were some of his favorites.\n",
      "As they continued their adventure, they encountered Lorem Ipsum, a lorem ipsum generator who spoke in Latin:\n",
      "\"Lorem ipsum dolor sit amet, consectetur adipiscing elit.\"\n",
      "In their pursuit, they stumbled upon an ancient book with mysterious ISBN-10 and ISBN-13 numbers:\n",
      "ISBN-10: 123456789X and ISBN-13: 978-1234567890.\n",
      "Their journey was filled with unexpected twists and turns, much like the regex patterns they used to decipher clues.\n",
      "After a long day, the explorers gathered around a campfire, sharing tales of their encounters. They realized that every step of their adventure was a puzzle waiting to be solved, just like the regex challenges they had conquered.\n",
      "As they drifted off to sleep under a starlit sky, they knew that their quest for treasure and knowledge had only just begun, and the magic of Regexville would continue to guide their way.\n",
      "\n",
      "\n"
     ]
    }
   ],
   "source": [
    "print(re.sub(r'\"[\\w]+[,\\.]*\"', '', s))"
   ]
  },
  {
   "cell_type": "markdown",
   "id": "e6cb2b73-c45b-4b28-8610-57d9304ddfe5",
   "metadata": {
    "id": "e6cb2b73-c45b-4b28-8610-57d9304ddfe5"
   },
   "source": [
    "#### Create a Python program that extracts all the dates in the format \"dd/mm/yyyy\" from a given text."
   ]
  },
  {
   "cell_type": "code",
   "execution_count": 5,
   "id": "cf67cec5-9f4a-42ac-866f-4f28111d2f1f",
   "metadata": {
    "colab": {
     "base_uri": "https://localhost:8080/"
    },
    "id": "cf67cec5-9f4a-42ac-866f-4f28111d2f1f",
    "outputId": "78e6c6f0-79df-4b5d-dc67-fd5490b48aa3"
   },
   "outputs": [
    {
     "name": "stdout",
     "output_type": "stream",
     "text": [
      "\n",
      "\n",
      "Once upon a time, in the enchanted land of Regexville, there lived a group of intrepid explorers.\n",
      "Their leader, Alice, was known for her love of adventure and her trusty email address, alice@example.com.\n",
      "Her phone number, 123-456-7890, was her lifeline in times of trouble.\n",
      "One day, Alice received a mysterious letter with today's date: . The letter hinted at an upcoming quest.\n",
      "The explorers gathered at the local inn, where they found a weathered map marked with a hashtag: #adventure.\n",
      "The map pointed to a hidden treasure on the website https://www.treasurehunt.com. The inn's address was 123 Main Street, Regexville, ZIP: 12345-6789.\n",
      "Their journey took them through the ancient forest, where they stumbled upon a cave with cryptic inscriptions:\n",
      "\"Python is amazing!\" and \"Java is equally fascinating!\" The explorers knew they were on the right path.\n",
      "Inside the cave, they found a device with the IP address 192.168.1.1 and a MAC addres of 00-B0-D0-63-C2-26, which held valuable clues.\n",
      "\n",
      "Among the explorers, there was a wordsmith who loved finding words with three consecutive vowels:\n",
      "\"boasting,\" \"quizzical,\" \"genuine,\" and \"queue\" were some of his favorites.\n",
      "As they continued their adventure, they encountered Lorem Ipsum, a lorem ipsum generator who spoke in Latin:\n",
      "\"Lorem ipsum dolor sit amet, consectetur adipiscing elit.\"\n",
      "In their pursuit, they stumbled upon an ancient book with mysterious ISBN-10 and ISBN-13 numbers:\n",
      "ISBN-10: 123456789X and ISBN-13: 978-1234567890.\n",
      "Their journey was filled with unexpected twists and turns, much like the regex patterns they used to decipher clues.\n",
      "After a long day, the explorers gathered around a campfire, sharing tales of their encounters. They realized that every step of their adventure was a puzzle waiting to be solved, just like the regex challenges they had conquered.\n",
      "As they drifted off to sleep under a starlit sky, they knew that their quest for treasure and knowledge had only just begun, and the magic of Regexville would continue to guide their way.\n",
      "\n",
      "\n"
     ]
    }
   ],
   "source": [
    "print(re.sub(r'\\d{2}/\\d{2}/\\d{4}', '', s))"
   ]
  },
  {
   "cell_type": "markdown",
   "id": "bc8cd00e-ce8e-4ef3-a20e-e3714464a827",
   "metadata": {
    "id": "bc8cd00e-ce8e-4ef3-a20e-e3714464a827"
   },
   "source": [
    "#### Write a Python program that extracts all the words that contain only lowercase letters from a given text."
   ]
  },
  {
   "cell_type": "code",
   "execution_count": 38,
   "id": "67e053c3-c06c-490d-83d2-13d5873df074",
   "metadata": {
    "colab": {
     "base_uri": "https://localhost:8080/"
    },
    "id": "67e053c3-c06c-490d-83d2-13d5873df074",
    "outputId": "809770e2-b727-4d6a-b65c-3948a98a0a6a"
   },
   "outputs": [
    {
     "name": "stdout",
     "output_type": "stream",
     "text": [
      "\n",
      "\n",
      "Once   ,      Regexville,       .\n",
      "Their , Alice,            , @..\n",
      "Her  , 123-456-7890,       .\n",
      "One , Alice      ' : 08/10/2023. The      .\n",
      "The      ,          : #.\n",
      "The          ://... The '   123 Main Street, Regexville, ZIP: 12345-6789.\n",
      "Their       ,         :\n",
      "\"Python  !\"  \"Java   !\" The        .\n",
      "Inside  ,       IP  192.168.1.1   MAC   00-B0-D0-63-C2-26,    .\n",
      "\n",
      "Among  ,            :\n",
      ",\" ,\" ,\"  \"     .\n",
      "As    ,   Lorem Ipsum,        Latin:\n",
      "\"Lorem    ,   .\"\n",
      "In  ,         ISBN-10  ISBN-13 :\n",
      "ISBN-10: 123456789X  ISBN-13: 978-1234567890.\n",
      "Their        ,          .\n",
      "After   ,      ,     . They              ,        .\n",
      "As         ,             ,     Regexville      .\n",
      "\n",
      "\n"
     ]
    }
   ],
   "source": [
    "print(re.sub(r'[\"]*\\b[a-z]+[,\"]*\\b', '', s))"
   ]
  },
  {
   "cell_type": "markdown",
   "id": "27138953-f3d8-4e8e-b94f-9cf60043cb76",
   "metadata": {
    "id": "27138953-f3d8-4e8e-b94f-9cf60043cb76"
   },
   "source": [
    "#### Create a Python program that finds and prints all the hashtags (words starting with #) in a given text."
   ]
  },
  {
   "cell_type": "code",
   "execution_count": 41,
   "id": "93e50146-3390-46d7-8440-23dc4f0b5e5f",
   "metadata": {
    "colab": {
     "base_uri": "https://localhost:8080/"
    },
    "id": "93e50146-3390-46d7-8440-23dc4f0b5e5f",
    "outputId": "e73ec667-3d38-42e3-ec04-bb9f694d087e"
   },
   "outputs": [
    {
     "name": "stdout",
     "output_type": "stream",
     "text": [
      "['#adventure']\n"
     ]
    }
   ],
   "source": [
    "print(re.findall(r'#[a-zA-Z]+', s))"
   ]
  },
  {
   "cell_type": "markdown",
   "id": "b73f8a8f-320a-44d7-95ee-587e48bffd17",
   "metadata": {
    "id": "b73f8a8f-320a-44d7-95ee-587e48bffd17"
   },
   "source": [
    "#### Create a Python program to validate and extract ISBN-10 and ISBN-13 numbers from a given text."
   ]
  },
  {
   "cell_type": "code",
   "execution_count": 5,
   "id": "cf458093-044e-47f8-bdac-4d8ce22669ee",
   "metadata": {
    "colab": {
     "base_uri": "https://localhost:8080/"
    },
    "id": "cf458093-044e-47f8-bdac-4d8ce22669ee",
    "outputId": "91ba1f13-7257-4405-fc02-9602f2774697"
   },
   "outputs": [
    {
     "name": "stdout",
     "output_type": "stream",
     "text": [
      "\n",
      "\n",
      "Once upon a time, in the enchanted land of Regexville, there lived a group of intrepid explorers.\n",
      "Their leader, Alice, was known for her love of adventure and her trusty email address, alice@example.com.\n",
      "Her phone number, 123-456-7890, was her lifeline in times of trouble.\n",
      "One day, Alice received a mysterious letter with today's date: 08/10/2023. The letter hinted at an upcoming quest.\n",
      "The explorers gathered at the local inn, where they found a weathered map marked with a hashtag: #adventure.\n",
      "The map pointed to a hidden treasure on the website https://www.treasurehunt.com. The inn's address was 123 Main Street, Regexville, ZIP: 12345-6789.\n",
      "Their journey took them through the ancient forest, where they stumbled upon a cave with cryptic inscriptions:\n",
      "\"Python is amazing!\" and \"Java is equally fascinating!\" The explorers knew they were on the right path.\n",
      "Inside the cave, they found a device with the IP address 192.168.1.1 and a MAC addres of 00-B0-D0-63-C2-26, which held valuable clues.\n",
      "\n",
      "Among the explorers, there was a wordsmith who loved finding words with three consecutive vowels:\n",
      "\"boasting,\" \"quizzical,\" \"genuine,\" and \"queue\" were some of his favorites.\n",
      "As they continued their adventure, they encountered Lorem Ipsum, a lorem ipsum generator who spoke in Latin:\n",
      "\"Lorem ipsum dolor sit amet, consectetur adipiscing elit.\"\n",
      "In their pursuit, they stumbled upon an ancient book with mysterious ISBN-10 and ISBN-13 numbers:\n",
      " and .\n",
      "Their journey was filled with unexpected twists and turns, much like the regex patterns they used to decipher clues.\n",
      "After a long day, the explorers gathered around a campfire, sharing tales of their encounters. They realized that every step of their adventure was a puzzle waiting to be solved, just like the regex challenges they had conquered.\n",
      "As they drifted off to sleep under a starlit sky, they knew that their quest for treasure and knowledge had only just begun, and the magic of Regexville would continue to guide their way.\n",
      "\n",
      "\n"
     ]
    }
   ],
   "source": [
    "print(re.sub(r'(\\d{9}X)|(\\d{3}-\\d{10})', '', s))"
   ]
  },
  {
   "cell_type": "markdown",
   "id": "3c9198be-8c2c-446d-8ad8-ae462af90a80",
   "metadata": {
    "id": "3c9198be-8c2c-446d-8ad8-ae462af90a80"
   },
   "source": [
    "#### Write a Python program that extracts all the words that are exactly 5 characters long from a given text."
   ]
  },
  {
   "cell_type": "code",
   "execution_count": 57,
   "id": "8f44b3b6-be95-48ab-af59-e7bc2c26a652",
   "metadata": {
    "colab": {
     "base_uri": "https://localhost:8080/"
    },
    "id": "8f44b3b6-be95-48ab-af59-e7bc2c26a652",
    "outputId": "fece44a9-f784-4eab-a029-8ddebd2efa05"
   },
   "outputs": [
    {
     "name": "stdout",
     "output_type": "stream",
     "text": [
      "\n",
      "\n",
      "Once upon a time, in the enchanted land of Regexville,   a  of intrepid explorers.\n",
      " leader, , was  for her love of adventure and her trusty  address, @example.com.\n",
      "Her  number, 123-456-7890, was her lifeline in  of trouble.\n",
      "One day,  received a mysterious letter with 's date: 08/10/2023. The letter hinted at an upcoming .\n",
      "The explorers gathered at the  inn,  they  a weathered map marked with a hashtag: #adventure.\n",
      "The map pointed to a hidden treasure on the website ://www.treasurehunt.com. The inn's address was 123 Main Street, Regexville, ZIP: 12345-6789.\n",
      " journey took them through the ancient forest,  they stumbled upon a cave with cryptic inscriptions:\n",
      "\"Python is amazing!\" and \"Java is equally fascinating!\" The explorers knew they were on the  path.\n",
      "Inside the cave, they  a device with the IP address 192.168.1.1 and a MAC addres of 00-B0-D0-63-C2-26,  held valuable .\n",
      "\n",
      " the explorers,  was a wordsmith who  finding  with  consecutive vowels:\n",
      "\"boasting,\" \"quizzical,\" \"genuine,\" and \"\" were some of his favorites.\n",
      "As they continued  adventure, they encountered  , a   generator who  in :\n",
      "\"   sit amet, consectetur adipiscing elit.\"\n",
      "In  pursuit, they stumbled upon an ancient book with mysterious ISBN-10 and ISBN-13 numbers:\n",
      "ISBN-10: 123456789X and ISBN-13: 978-1234567890.\n",
      " journey was filled with unexpected twists and , much like the  patterns they used to decipher .\n",
      " a long day, the explorers gathered around a campfire, sharing  of  encounters. They realized that  step of  adventure was a puzzle waiting to be solved, just like the  challenges they had conquered.\n",
      "As they drifted off to   a starlit sky, they knew that   for treasure and knowledge had only just , and the  of Regexville  continue to   way.\n",
      "\n",
      "\n"
     ]
    }
   ],
   "source": [
    "print(re.sub(r'\\b[A-Za-z]{5}\\b', '', s))"
   ]
  },
  {
   "cell_type": "markdown",
   "id": "d19b4948-59f5-4d3d-9875-7f0f7e5ac60d",
   "metadata": {
    "id": "d19b4948-59f5-4d3d-9875-7f0f7e5ac60d"
   },
   "source": [
    "#### Create a Python program to validate and extract IPv4 addresses from a given text."
   ]
  },
  {
   "cell_type": "code",
   "execution_count": 7,
   "id": "2a0082f4-c83b-44fc-a710-ae0dab06bc1d",
   "metadata": {
    "id": "2a0082f4-c83b-44fc-a710-ae0dab06bc1d"
   },
   "outputs": [
    {
     "name": "stdout",
     "output_type": "stream",
     "text": [
      "\n",
      "\n",
      "Once upon a time, in the enchanted land of Regexville, there lived a group of intrepid explorers.\n",
      "Their leader, Alice, was known for her love of adventure and her trusty email address, alice@example.com.\n",
      "Her phone number, 123-456-7890, was her lifeline in times of trouble.\n",
      "One day, Alice received a mysterious letter with today's date: 08/10/2023. The letter hinted at an upcoming quest.\n",
      "The explorers gathered at the local inn, where they found a weathered map marked with a hashtag: #adventure.\n",
      "The map pointed to a hidden treasure on the website https://www.treasurehunt.com. The inn's address was 123 Main Street, Regexville, ZIP: 12345-6789.\n",
      "Their journey took them through the ancient forest, where they stumbled upon a cave with cryptic inscriptions:\n",
      "\"Python is amazing!\" and \"Java is equally fascinating!\" The explorers knew they were on the right path.\n",
      "Inside the cave, they found a device with the IP address  and a MAC addres of 00-B0-D0-63-C2-26, which held valuable clues.\n",
      "\n",
      "Among the explorers, there was a wordsmith who loved finding words with three consecutive vowels:\n",
      "\"boasting,\" \"quizzical,\" \"genuine,\" and \"queue\" were some of his favorites.\n",
      "As they continued their adventure, they encountered Lorem Ipsum, a lorem ipsum generator who spoke in Latin:\n",
      "\"Lorem ipsum dolor sit amet, consectetur adipiscing elit.\"\n",
      "In their pursuit, they stumbled upon an ancient book with mysterious ISBN-10 and ISBN-13 numbers:\n",
      "ISBN-10: 123456789X and ISBN-13: 978-1234567890.\n",
      "Their journey was filled with unexpected twists and turns, much like the regex patterns they used to decipher clues.\n",
      "After a long day, the explorers gathered around a campfire, sharing tales of their encounters. They realized that every step of their adventure was a puzzle waiting to be solved, just like the regex challenges they had conquered.\n",
      "As they drifted off to sleep under a starlit sky, they knew that their quest for treasure and knowledge had only just begun, and the magic of Regexville would continue to guide their way.\n",
      "\n",
      "\n"
     ]
    }
   ],
   "source": [
    "print(re.sub(r'\\b[\\d]{1,3}\\.[\\d]{1,3}\\.[\\d]{1,3}\\.[\\d]{1,3}\\b', '', s))"
   ]
  },
  {
   "cell_type": "markdown",
   "id": "9ce5f531-325b-4611-a5c3-b3b98d9eecf3",
   "metadata": {
    "id": "9ce5f531-325b-4611-a5c3-b3b98d9eecf3"
   },
   "source": [
    "#### Write a Python program that extracts all the words that end with \"ing\" from a given text."
   ]
  },
  {
   "cell_type": "code",
   "execution_count": 58,
   "id": "65481a0a-c36c-4b2a-a354-0393c98520cc",
   "metadata": {
    "colab": {
     "base_uri": "https://localhost:8080/"
    },
    "id": "65481a0a-c36c-4b2a-a354-0393c98520cc",
    "outputId": "a2d9bf33-2b17-4966-a463-07676a50c683"
   },
   "outputs": [
    {
     "name": "stdout",
     "output_type": "stream",
     "text": [
      "\n",
      "\n",
      "Once upon a time, in the enchanted land of Regexville, there lived a group of intrepid explorers.\n",
      "Their leader, Alice, was known for her love of adventure and her trusty email address, alice@example.com.\n",
      "Her phone number, 123-456-7890, was her lifeline in times of trouble.\n",
      "One day, Alice received a mysterious letter with today's date: 08/10/2023. The letter hinted at an upcoming quest.\n",
      "The explorers gathered at the local inn, where they found a weathered map marked with a hashtag: #adventure.\n",
      "The map pointed to a hidden treasure on the website https://www.treasurehunt.com. The inn's address was 123 Main Street, Regexville, ZIP: 12345-6789.\n",
      "Their journey took them through the ancient forest, where they stumbled upon a cave with cryptic inscriptions:\n",
      "\"Python is amazing!\" and \"Java is equally fascinating!\" The explorers knew they were on the right path.\n",
      "Inside the cave, they found a device with the IP address 192.168.1.1 and a MAC addres of 00-B0-D0-63-C2-26, which held valuable clues.\n",
      "\n",
      "Among the explorers, there was a wordsmith who loved finding words with three consecutive vowels:\n",
      "\"boasting,\" \"quizzical,\" \"genuine,\" and \"queue\" were some of his favorites.\n",
      "As they continued their adventure, they encountered Lorem Ipsum, a lorem ipsum generator who spoke in Latin:\n",
      "\"Lorem ipsum dolor sit amet, consectetur adipiscing elit.\"\n",
      "In their pursuit, they stumbled upon an ancient book with mysterious ISBN-10 and ISBN-13 numbers:\n",
      "ISBN-10: 123456789X and ISBN-13: 978-1234567890.\n",
      "Their journey was filled with unexpected twists and turns, much like the regex patterns they used to decipher clues.\n",
      "After a long day, the explorers gathered around a campfire, sharing tales of their encounters. They realized that every step of their adventure was a puzzle waiting to be solved, just like the regex challenges they had conquered.\n",
      "As they drifted off to sleep under a starlit sky, they knew that their quest for treasure and knowledge had only just begun, and the magic of Regexville would continue to guide their way.\n",
      "\n",
      "\n"
     ]
    }
   ],
   "source": [
    "print(re.sub(r'\\b[a-zA-Z]+ing\\b', '', s))"
   ]
  },
  {
   "cell_type": "markdown",
   "id": "9c26f081-895f-487a-bb3b-b416804dc542",
   "metadata": {
    "id": "9c26f081-895f-487a-bb3b-b416804dc542"
   },
   "source": [
    "#### Create a Python program to validate and extract MAC addresses (in the format XX:XX:XX:XX:XX:XX) from a given text."
   ]
  },
  {
   "cell_type": "code",
   "execution_count": 73,
   "id": "014b0956-6ef8-46a1-8f0b-635e8bbad63b",
   "metadata": {
    "colab": {
     "base_uri": "https://localhost:8080/"
    },
    "id": "014b0956-6ef8-46a1-8f0b-635e8bbad63b",
    "outputId": "23056ccb-625f-44b8-f5e1-6b8b9d9d58d6"
   },
   "outputs": [
    {
     "name": "stdout",
     "output_type": "stream",
     "text": [
      "\n",
      "\n",
      "Once upon a time, in the enchanted land of Regexville, there lived a group of intrepid explorers.\n",
      "Their leader, Alice, was known for her love of adventure and her trusty email address, alice@example.com.\n",
      "Her phone number, 123-456-7890, was her lifeline in times of trouble.\n",
      "One day, Alice received a mysterious letter with today's date: 08/10/2023. The letter hinted at an upcoming quest.\n",
      "The explorers gathered at the local inn, where they found a weathered map marked with a hashtag: #adventure.\n",
      "The map pointed to a hidden treasure on the website https://www.treasurehunt.com. The inn's address was 123 Main Street, Regexville, ZIP: 12345-6789.\n",
      "Their journey took them through the ancient forest, where they stumbled upon a cave with cryptic inscriptions:\n",
      "\"Python is amazing!\" and \"Java is equally fascinating!\" The explorers knew they were on the right path.\n",
      "Inside the cave, they found a device with the IP address 192.168.1.1 and a MAC addres of, which held valuable clues.\n",
      "\n",
      "Among the explorers, there was a wordsmith who loved finding words with three consecutive vowels:\n",
      "\"boasting,\" \"quizzical,\" \"genuine,\" and \"queue\" were some of his favorites.\n",
      "As they continued their adventure, they encountered Lorem Ipsum, a lorem ipsum generator who spoke in Latin:\n",
      "\"Lorem ipsum dolor sit amet, consectetur adipiscing elit.\"\n",
      "In their pursuit, they stumbled upon an ancient book with mysterious ISBN-10 and ISBN-13 numbers:\n",
      "ISBN-10: 123456789X and ISBN-13: 978-1234567890.\n",
      "Their journey was filled with unexpected twists and turns, much like the regex patterns they used to decipher clues.\n",
      "After a long day, the explorers gathered around a campfire, sharing tales of their encounters. They realized that every step of their adventure was a puzzle waiting to be solved, just like the regex challenges they had conquered.\n",
      "As they drifted off to sleep under a starlit sky, they knew that their quest for treasure and knowledge had only just begun, and the magic of Regexville would continue to guide their way.\n",
      "\n",
      "\n"
     ]
    }
   ],
   "source": [
    "print(re.sub(r'\\w{2}\\-\\w{2}\\-\\w{2}\\-\\w{2}\\-\\w{2}\\-\\w{2}', '', s))"
   ]
  },
  {
   "cell_type": "markdown",
   "id": "k2dxSdpmcExn",
   "metadata": {
    "id": "k2dxSdpmcExn"
   },
   "source": [
    "Create a Python program that finds all words that are before and after an 'and' from a given text. (x and y)"
   ]
  },
  {
   "cell_type": "code",
   "execution_count": 75,
   "id": "i52kcDVGcD_8",
   "metadata": {
    "colab": {
     "base_uri": "https://localhost:8080/"
    },
    "id": "i52kcDVGcD_8",
    "outputId": "11ed87b0-b662-4f68-9694-30ec82bac142"
   },
   "outputs": [
    {
     "name": "stdout",
     "output_type": "stream",
     "text": [
      "['adventure and her', 'twists and turns', 'treasure and knowledge']\n"
     ]
    }
   ],
   "source": [
    "print(re.findall(r'\\b[A-Za-z]+ and [A-Za-z]+\\b', s))"
   ]
  },
  {
   "cell_type": "markdown",
   "id": "36MF6kCHcQCW",
   "metadata": {
    "id": "36MF6kCHcQCW"
   },
   "source": [
    "Create a Python program that finds all words from a given text that start and end with the same letter and is not a vowel."
   ]
  },
  {
   "cell_type": "code",
   "execution_count": null,
   "id": "UVuNm70acQjC",
   "metadata": {
    "id": "UVuNm70acQjC"
   },
   "outputs": [],
   "source": [
    "print(re.findall(r'', s))"
   ]
  },
  {
   "cell_type": "markdown",
   "id": "f3fk_cmPcd9P",
   "metadata": {
    "id": "f3fk_cmPcd9P"
   },
   "source": [
    "Create a Python program that finds all 'lorem ipsum' appearences (not cap sensitive) from a given text."
   ]
  },
  {
   "cell_type": "code",
   "execution_count": 80,
   "id": "mPqM_-Nucedk",
   "metadata": {
    "colab": {
     "base_uri": "https://localhost:8080/"
    },
    "id": "mPqM_-Nucedk",
    "outputId": "09a16a05-145f-4883-c6f9-710bb3aaab02"
   },
   "outputs": [
    {
     "name": "stdout",
     "output_type": "stream",
     "text": [
      "['Lorem Ipsum', 'lorem ipsum', 'Lorem ipsum']\n"
     ]
    }
   ],
   "source": [
    "print(re.findall(r'[Ll]orem [Ii]psum', s))"
   ]
  },
  {
   "cell_type": "markdown",
   "id": "63TjR3e5cuwF",
   "metadata": {
    "id": "63TjR3e5cuwF"
   },
   "source": [
    "Create a Python program that finds all repeating equal consonants from a given text. (nn, tt, ...)"
   ]
  },
  {
   "cell_type": "code",
   "execution_count": 85,
   "id": "6ONenmOpcvHJ",
   "metadata": {
    "colab": {
     "base_uri": "https://localhost:8080/"
    },
    "id": "6ONenmOpcvHJ",
    "outputId": "3304b9e5-eff4-4231-bce3-792a48b4d602"
   },
   "outputs": [
    {
     "name": "stdout",
     "output_type": "stream",
     "text": [
      "['On', 'ce', 'up', 'on', 'ti', 'me', 'in', 'th', 'en', 'ch', 'an', 'te', 'la', 'nd', 'of', 'Re', 'ge', 'xv', 'il', 'le', 'th', 'er', 'li', 've', 'gr', 'ou', 'of', 'in', 'tr', 'ep', 'id', 'ex', 'pl', 'or', 'er', 'Th', 'ei', 'le', 'ad', 'er', 'Al', 'ic', 'wa', 'kn', 'ow', 'fo', 'he', 'lo', 've', 'of', 'ad', 've', 'nt', 'ur', 'an', 'he', 'tr', 'us', 'ty', 'em', 'ai', 'ad', 'dr', 'es', 'al', 'ic', 'ex', 'am', 'pl', 'co', 'He', 'ph', 'on', 'nu', 'mb', 'er', 'wa', 'he', 'li', 'fe', 'li', 'ne', 'in', 'ti', 'me', 'of', 'tr', 'ou', 'bl', 'On', 'da', 'Al', 'ic', 're', 'ce', 'iv', 'ed', 'my', 'st', 'er', 'io', 'us', 'le', 'tt', 'er', 'wi', 'th', 'to', 'da', 'da', 'te', 'Th', 'le', 'tt', 'er', 'hi', 'nt', 'ed', 'at', 'an', 'up', 'co', 'mi', 'ng', 'qu', 'es', 'Th', 'ex', 'pl', 'or', 'er', 'ga', 'th', 'er', 'ed', 'at', 'th', 'lo', 'ca', 'in', 'wh', 'er', 'th', 'ey', 'fo', 'un', 'we', 'at', 'he', 're', 'ma', 'ma', 'rk', 'ed', 'wi', 'th', 'ha', 'sh', 'ta', 'ad', 've', 'nt', 'ur', 'Th', 'ma', 'po', 'in', 'te', 'to', 'hi', 'dd', 'en', 'tr', 'ea', 'su', 're', 'on', 'th', 'we', 'bs', 'it', 'ht', 'tp', 'ww', 'tr', 'ea', 'su', 're', 'hu', 'nt', 'co', 'Th', 'in', 'ad', 'dr', 'es', 'wa', 'Ma', 'in', 'St', 're', 'et', 'Re', 'ge', 'xv', 'il', 'le', 'ZI', 'Th', 'ei', 'jo', 'ur', 'ne', 'to', 'ok', 'th', 'em', 'th', 'ro', 'ug', 'th', 'an', 'ci', 'en', 'fo', 're', 'st', 'wh', 'er', 'th', 'ey', 'st', 'um', 'bl', 'ed', 'up', 'on', 'ca', 've', 'wi', 'th', 'cr', 'yp', 'ti', 'in', 'sc', 'ri', 'pt', 'io', 'ns', 'Py', 'th', 'on', 'is', 'am', 'az', 'in', 'an', 'Ja', 'va', 'is', 'eq', 'ua', 'll', 'fa', 'sc', 'in', 'at', 'in', 'Th', 'ex', 'pl', 'or', 'er', 'kn', 'ew', 'th', 'ey', 'we', 're', 'on', 'th', 'ri', 'gh', 'pa', 'th', 'In', 'si', 'de', 'th', 'ca', 've', 'th', 'ey', 'fo', 'un', 'de', 'vi', 'ce', 'wi', 'th', 'th', 'IP', 'ad', 'dr', 'es', 'an', 'MA', 'ad', 'dr', 'es', 'of', 'wh', 'ic', 'he', 'ld', 'va', 'lu', 'ab', 'le', 'cl', 'ue', 'Am', 'on', 'th', 'ex', 'pl', 'or', 'er', 'th', 'er', 'wa', 'wo', 'rd', 'sm', 'it', 'wh', 'lo', 've', 'fi', 'nd', 'in', 'wo', 'rd', 'wi', 'th', 'th', 're', 'co', 'ns', 'ec', 'ut', 'iv', 'vo', 'we', 'ls', 'bo', 'as', 'ti', 'ng', 'qu', 'iz', 'zi', 'ca', 'ge', 'nu', 'in', 'an', 'qu', 'eu', 'we', 're', 'so', 'me', 'of', 'hi', 'fa', 'vo', 'ri', 'te', 'As', 'th', 'ey', 'co', 'nt', 'in', 'ue', 'th', 'ei', 'ad', 've', 'nt', 'ur', 'th', 'ey', 'en', 'co', 'un', 'te', 're', 'Lo', 're', 'Ip', 'su', 'lo', 're', 'ip', 'su', 'ge', 'ne', 'ra', 'to', 'wh', 'sp', 'ok', 'in', 'La', 'ti', 'Lo', 're', 'ip', 'su', 'do', 'lo', 'si', 'am', 'et', 'co', 'ns', 'ec', 'te', 'tu', 'ad', 'ip', 'is', 'ci', 'ng', 'el', 'it', 'In', 'th', 'ei', 'pu', 'rs', 'ui', 'th', 'ey', 'st', 'um', 'bl', 'ed', 'up', 'on', 'an', 'an', 'ci', 'en', 'bo', 'ok', 'wi', 'th', 'my', 'st', 'er', 'io', 'us', 'IS', 'BN', 'an', 'IS', 'BN', 'nu', 'mb', 'er', 'IS', 'BN', 'an', 'IS', 'BN', 'Th', 'ei', 'jo', 'ur', 'ne', 'wa', 'fi', 'll', 'ed', 'wi', 'th', 'un', 'ex', 'pe', 'ct', 'ed', 'tw', 'is', 'ts', 'an', 'tu', 'rn', 'mu', 'ch', 'li', 'ke', 'th', 're', 'ge', 'pa', 'tt', 'er', 'ns', 'th', 'ey', 'us', 'ed', 'to', 'de', 'ci', 'ph', 'er', 'cl', 'ue', 'Af', 'te', 'lo', 'ng', 'da', 'th', 'ex', 'pl', 'or', 'er', 'ga', 'th', 'er', 'ed', 'ar', 'ou', 'nd', 'ca', 'mp', 'fi', 're', 'sh', 'ar', 'in', 'ta', 'le', 'of', 'th', 'ei', 'en', 'co', 'un', 'te', 'rs', 'Th', 'ey', 're', 'al', 'iz', 'ed', 'th', 'at', 'ev', 'er', 'st', 'ep', 'of', 'th', 'ei', 'ad', 've', 'nt', 'ur', 'wa', 'pu', 'zz', 'le', 'wa', 'it', 'in', 'to', 'be', 'so', 'lv', 'ed', 'ju', 'st', 'li', 'ke', 'th', 're', 'ge', 'ch', 'al', 'le', 'ng', 'es', 'th', 'ey', 'ha', 'co', 'nq', 'ue', 're', 'As', 'th', 'ey', 'dr', 'if', 'te', 'of', 'to', 'sl', 'ee', 'un', 'de', 'st', 'ar', 'li', 'sk', 'th', 'ey', 'kn', 'ew', 'th', 'at', 'th', 'ei', 'qu', 'es', 'fo', 'tr', 'ea', 'su', 're', 'an', 'kn', 'ow', 'le', 'dg', 'ha', 'on', 'ly', 'ju', 'st', 'be', 'gu', 'an', 'th', 'ma', 'gi', 'of', 'Re', 'ge', 'xv', 'il', 'le', 'wo', 'ul', 'co', 'nt', 'in', 'ue', 'to', 'gu', 'id', 'th', 'ei', 'wa']\n"
     ]
    }
   ],
   "source": [
    "print(re.findall(r'[a-zA-Z]{2}', s))"
   ]
  }
 ],
 "metadata": {
  "colab": {
   "provenance": []
  },
  "kernelspec": {
   "display_name": "Python 3 (ipykernel)",
   "language": "python",
   "name": "python3"
  },
  "language_info": {
   "codemirror_mode": {
    "name": "ipython",
    "version": 3
   },
   "file_extension": ".py",
   "mimetype": "text/x-python",
   "name": "python",
   "nbconvert_exporter": "python",
   "pygments_lexer": "ipython3",
   "version": "3.12.2"
  }
 },
 "nbformat": 4,
 "nbformat_minor": 5
}
